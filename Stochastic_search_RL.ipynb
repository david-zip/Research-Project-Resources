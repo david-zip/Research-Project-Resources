{
  "nbformat": 4,
  "nbformat_minor": 0,
  "metadata": {
    "colab": {
      "name": "Stochastic_search_RL.ipynb",
      "provenance": [],
      "collapsed_sections": [],
      "include_colab_link": true
    },
    "kernelspec": {
      "name": "python3",
      "display_name": "Python 3"
    },
    "language_info": {
      "name": "python"
    }
  },
  "cells": [
    {
      "cell_type": "markdown",
      "metadata": {
        "id": "view-in-github",
        "colab_type": "text"
      },
      "source": [
        "<a href=\"https://colab.research.google.com/github/david-zip/Research-Project-Resources/blob/main/Stochastic_search_RL.ipynb\" target=\"_parent\"><img src=\"https://colab.research.google.com/assets/colab-badge.svg\" alt=\"Open In Colab\"/></a>"
      ]
    },
    {
      "cell_type": "code",
      "metadata": {
        "id": "jvQrDvBMvT8Z"
      },
      "source": [
        "# --- author --- #\n",
        "# Max Mowbray, University of Manchester\n"
      ],
      "execution_count": null,
      "outputs": []
    },
    {
      "cell_type": "markdown",
      "metadata": {
        "id": "rTx3T1YkJRHE"
      },
      "source": [
        "\n",
        "\n",
        "```\n",
        "# This is a notebook to demonstrate a basic framework for stochastic search approaches to policy optimization.\n",
        "```"
      ]
    },
    {
      "cell_type": "markdown",
      "metadata": {
        "id": "ai2oHL3hlgYE"
      },
      "source": [
        "# **Stochastic search methods and stochastic optimization**\n",
        "\n",
        "The basic idea of stochastic search algorithms is to optimize the input, $\\mathbf{\\theta}\\in \\mathbb{R}^{n_\\theta}$, to a function, $J:\\mathbb{R}^{n_\\theta} \\rightarrow \\mathbb{R}$, such that:\n",
        "\n",
        "$$ \\mathbf{\\theta}^* = \\text{argmax}_\\mathbf{\\theta} J(\\mathbf{\\theta})$$\n",
        "\n",
        "and we would like to do so independently of any gradient information, i.e. we can only observe the input-output mapping expressed by the function itself at given points in the domain. This allows us to optimize for highly nonlinear and even non-smooth functions.\n",
        "\n",
        "We can extend this to optimize (stochastic) functions that are subject to uncertain parameters, $\\mathbf{s}\\in \\mathbb{R}^{n_s}$. These parameters may be described either by a set or by a distribution. \n",
        "\n",
        "Given that we have uncertainty in the parameters, $J(\\theta) \\sim p_\\theta(j)$ is a random variable, described by a distribution (dependent on $\\theta$). If we want to optimize a given measure of the distribution of function values observed under a given setting of $\\theta$, we could do so by sampling the function many times, i.e. by using a Monte Carlo method. For example, say we want to maximise:\n",
        "\n",
        "$$ \\theta^* = \\text{argmax}_\\theta \\mathbb{E}_\\theta \\big[J(\\theta, s) \\big] $$\n",
        "\n",
        "We could approximate via the sample average approximation (SAA), by sampling N different realizations of the uncertain parameters $\\mathbf{s}$:\n",
        "\n",
        "$$ \\theta^* \\approx \\text{argmax}_\\theta \\frac{1}{N} \\sum_{i=1}^N J(\\theta, s_i) $$\n",
        "\n",
        "\n",
        "\n",
        "# **Stochastic search and Reinforcement Learning**\n",
        "\n",
        "## **The RL problem**\n",
        "In classical reinforcement learning, we are generally faced with a problem of a similar flavour. We assume there is a stochastic function that we would like to optimize. This time, $\\theta$ are the parameters of a policy function, $\\mathbf{u}_t = \\pi(\\mathbf{x};\\theta,\\cdot)$, and $\\mathbf{s}\\sim p(\\mathbf{s})$ are the uncertain parameters of a dynamical system (or model of a real system we would like to optimize/control), i.e.\n",
        "\n",
        "$$\\mathbf{x}_{t+1} = f(\\mathbf{x}_t, \\mathbf{u}_t, \\mathbf{s}_t)$$\n",
        "\n",
        "which could be equivalently described by $p(\\mathbf{x}_{t+1} | \\mathbf{x}_t, \\mathbf{u}_t)$. The interaction between the policy function and the dynamical system is outlined below:\n",
        "\n",
        "<br>\n",
        "\n",
        "<img src=\"https://drive.google.com/uc?export=view&id=1N9zM1ktYZlCOf-T7g4YA0dYpwhwzv39e\" width=\"650\" height =\"200\" >\n",
        "\n",
        "<br>\n",
        "\n",
        "The quality of the control selection is rated by a reward function, $R:\\mathbb{R}^{n_x} \\times \\mathbb{R}^{n_u} \\rightarrow R_{t+1} \\in \\mathbb{R}$.\n",
        "Generally, we would like to optimize the process over a discrete time horizon, such that $t \\in \\{0, \\ldots, T\\}$, i.e. the process trajectory, $\\mathbf{\\tau}$ which is a sequence of state and control realizations over the discrete time horizon, $\\mathbf{\\tau} = (\\mathbf{x}_0, \\mathbf{u}_0, \\ldots, \\mathbf{u}_{T-1}, \\mathbf{x}_T)$. This is a joint random variable described by a distribution, $\\mathbf{\\tau} \\sim p(\\mathbf{\\tau})$:\n",
        "\n",
        "$$ p(\\mathbf{\\tau}) = p(\\mathbf{x}_0) \\prod_{t=0}^{T-1} \\pi(\\mathbf{u}_t|\\mathbf{x}_t) p(\\mathbf{x}_{t+1} | \\mathbf{x}_t, \\mathbf{u}_t)$$\n",
        "\n",
        "\n",
        "Given that we optimize for the sum of rewards along the path, the objective is then:\n",
        "\n",
        "$$ J = \\sum_{t=0}^{T-1} R_{t+1} $$\n",
        "\n",
        "\n",
        "$$ \\theta^* = \\text{argmax}_\\theta \\ \\mathbb{E}_{\\tau \\sim p_\\theta(\\tau)} \\big[J(\\theta) \\big] $$. \n",
        "\n",
        "We will explore the difference between first order RL methods and stochastic search RL methods in the following.\n",
        "\n",
        "## **Policy gradient and first order RL methods**\n",
        "\n",
        "Generally, first order (policy gradient) RL methods, approach the problem of policy optimization via gradient based updates via, e.g.:\n",
        "\n",
        "\n",
        "$\\textit{The policy gradient theorem}$\n",
        "$$\\nabla_\\theta J(\\theta) = \\nabla_\\theta \\int p_\\theta(\\tau)J d \\tau  \\\\\n",
        "\\nabla_\\theta J(\\theta) =  \\int \\nabla_\\theta p_\\theta(\\tau) J d\\tau \\\\\n",
        "\\nabla_\\theta J(\\theta) = \\int p_\\theta(\\tau) \\frac{\\nabla_\\theta p_\\theta(\\tau)}{p_\\theta(\\tau)} J d\\tau \\\\\n",
        "\\nabla_\\theta J(\\theta) = \\int p_\\theta(\\tau) \\nabla_\\theta \\log p_\\theta(\\tau) J d\\tau  \\\\\n",
        "\\nabla_\\theta J(\\theta) = \\mathbb{E}_{\\tau \\sim p_\\theta(\\tau)}\\big[J \\nabla_\\theta \\log p_\\theta(\\tau)]$$\n",
        "\n",
        "and some form of:\n",
        "\n",
        "$\\textit{Gradient ascent}$\n",
        "\n",
        "$$\\theta_{i+1} = \\theta_{i+1} + \\alpha \\nabla_\\theta J(\\theta)$$\n",
        "\n",
        "\n",
        "<br>\n",
        "\n",
        "<img src=\"https://drive.google.com/uc?export=view&id=11qbFcJmYpKBNozZNBhTBJ6FDJSGzpUb4\" width=\"450\" height =\"300\" >\n",
        "\n",
        "<br>\n",
        "\n",
        "This can be unstable and expensive if:\n",
        "\n",
        "1.   You do not have a good policy parameter initialization\n",
        "2.   Small changes in the parameter vector, lead to large changes in the state distribution one induces\n",
        "3.   Large changes in the policy performance.\n",
        "\n",
        "## **Stochastic search RL methods**\n",
        "\n",
        "In stochastic search approaches to RL, we now consider the problem instance where are generally unable to identify a valid direction for policy improvement. This is common in RL, if e.g. there is non-smoothness in the performance landscape. This may arise if we e.g. enforce constraints via a penalty method, or if we have a highly non-smooth model. \n",
        "\n",
        "The use of stochastic search in RL is also appealling additional to the presence of the aforementioned properties of the system. Generally, estimating the directions used for learning a better controller are 1) noisy and 2) expensive. This is compounded by the fact that e.g. policy gradients with discounting and bootstrapped temporal difference updates are not strictly gradient updates - which means we often don't have guarantees of convergence (even to a region of the weight space).\n",
        "\n",
        "The framework for search-based RL can be slightly different to first-order methods. This mainly depends on whether the search algorithm maintains and perturbs $\\textit{a population of candidate policies}$ or whether it maintains and perturbs $\\textit{a single policy}$ parameter vector. However, generally stochastic search updates policies as follows:\n",
        "\n",
        "$$ \\pi(\\theta^{k+1}_1), \\ldots, \\pi\n",
        "(\\theta^{k+1}_N) = S_{RL}\\big(\\pi^{k}(\\theta_1), \\ldots, \\pi^{k}(\\theta_N) \\big) $$\n",
        "\n",
        "where $\\Pi = \\{\\pi(\\theta_1), \\ldots, \\pi(\\theta_P)\\}$ is a set of policies with distinct paramterizations, $k$ indicates the iteration of search, and $S_{RL}(\\cdot)$ indicates a general stochastic search algorithm.\n",
        "\n",
        "All stochastic search algorithms keep a track of the global best policy parameters based on corresponding performance. More advanced stochastic search methods update the population of parameters based on their performance, less effective algorithms (like pure random search, which simply samples from the parameter space) tend not to.\n",
        "\n",
        "In the case, one maintans a population ($P\\geq 1$), and not a single candidate policy ($P=1$), then see the framework below.\n",
        "\n",
        "<br>\n",
        "\n",
        "<img src=\"https://drive.google.com/uc?export=view&id=1XIEZgmHU_u3evQF5sSFOBz71IRUJt-pR\" width=\"450\" height =\"300\" >\n",
        "\n",
        "<br>\n",
        "\n",
        "In the following we will explore the use of random search. The algorithm for which follows. \n"
      ]
    },
    {
      "cell_type": "code",
      "metadata": {
        "id": "k_X23QcSKeZ7"
      },
      "source": [
        "# imports\n",
        "import torch\n",
        "import numpy as np \n",
        "import scipy.integrate as scp\n",
        "import copy\n",
        "import numpy.random as rnd\n",
        "import time\n",
        "import matplotlib.pyplot as plt\n"
      ],
      "execution_count": null,
      "outputs": []
    },
    {
      "cell_type": "markdown",
      "metadata": {
        "id": "KVkxtWeFFs3U"
      },
      "source": [
        "### **Dynamic system**\n",
        "In the following we will consider a discrete time system, where the evolution of state $\\mathbf{x}_t \\in \\mathbb{R}^{n_x}$ follows:\n",
        "\n",
        "$$\\mathbf{x}_{t+1} = f(\\mathbf{x}_t, \\mathbf{u}_t, \\mathbf{s}_t)$$\\\n",
        "$$f(\\mathbf{x}_t, \\mathbf{u}_t, \\mathbf{s}_t) = A\\mathbf{x}_t + B \\mathbf{u}_t + D\\mathbf{s}_t$$\n",
        "\n",
        "and we would like to control this system using $\\mathbf{u}_t = \\pi(\\mathbf{x}_t;\\theta)$\n"
      ]
    },
    {
      "cell_type": "code",
      "metadata": {
        "id": "Czb3FHh_Fn5u"
      },
      "source": [
        "\n",
        "class ModelIntegration:\n",
        "    '''\n",
        "    This file is where the system is evolved over a discrete time horizon\n",
        "    model: this is where the model should be changed \n",
        "    dynamics: linear discrete time system (we want to drive the state to zero - i.e. we want to identify a regulatory controller)\n",
        "    note: if we had continuous time dynamics, this is where we would integrate the system\n",
        "    '''\n",
        "    \n",
        "    # --- initializing model --- #\n",
        "    def __init__(self, parameters):\n",
        "        \n",
        "        # Object variable definitions\n",
        "        self.parameters = parameters\n",
        "      \n",
        "    # --- difference model definition --- #    \n",
        "    def step(self, x, u):\n",
        "        # internal definitions\n",
        "        nx, nu  =  x.squeeze().shape[0], u.squeeze().shape[0]\n",
        "        x       = x.reshape(nx, 1)\n",
        "        params  = self.parameters\n",
        "        # parameters\n",
        "        A = params['A'].reshape(nx, nx)                      # \n",
        "        B = params['B'].reshape(nx, nu)                                  # \n",
        "        D = params['D'].reshape(nx, nx)                                                  \n",
        "        s = np.random.normal(0, 1, size = nx).reshape(nx, 1)\n",
        "\n",
        "        # variable rate equations\n",
        "        x_p     = A@x + B@u.reshape(nu,1) + D@s\n",
        "      \n",
        "        r = self.reward_func(x_p, u)\n",
        "\n",
        "        return x_p, r\n",
        "\n",
        "    def reward_func(self, x, u):\n",
        "      return -x.reshape(1,-1)@x.reshape(-1,1)         # want to minimize (hence we maximize the negative obj)\n",
        "    \n",
        "    # --- simulation --- #\n",
        "    def simulation(self, controls, x0):\n",
        "        '''\n",
        "        u shape -> (u_{dim},steps)\n",
        "        '''\n",
        "\n",
        "        # internal definitions\n",
        "        steps = controls.shape[1]\n",
        "        tf           = 16.*24.\n",
        "        dt           = tf/(steps)\n",
        "        \n",
        "        # compile state trajectories\n",
        "        xt = np.zeros((x0.shape[0],steps+1))\n",
        "        tt = np.zeros((steps+1))\n",
        "        \n",
        "        # initialize simulation\n",
        "        current_state = x0\n",
        "        xt[:,0]       = current_state\n",
        "        tt[0]         = 0.\n",
        "        \n",
        "        # simulation\n",
        "        for s in range(steps):\n",
        "            u             = controls[:,s]                   # control for this step\n",
        "            current_state, rt = self.step(current_state, u) \n",
        "            xt[:,s+1]     = current_state.squeeze()         # add current state\n",
        "            tt[s+1]       = (s+1)*dt\n",
        "        \n",
        "        return xt, tt          "
      ],
      "execution_count": null,
      "outputs": []
    },
    {
      "cell_type": "code",
      "source": [
        "# if the system is uncontrolled it has the following response \n",
        "# ---------- problem definition ---------- #\n",
        "p        = {'A' : np.array([[1.0, 0.2],[0, 1.3]]), 'B' : np.array([[0.5, 0.5],[0.5, 0.5]]), 'D' : np.diag([0.1,0.1]), 'Y_nx' : 504.49}                 # model parameter definitions\n",
        "nx                 = 2\n",
        "nu                 = 2\n",
        "epochs             = 10\n",
        "episodes           = 10\n",
        "nk                 = 20\n",
        "x0                 = np.array([0.1,-0.1]) \n",
        "x0_var             = np.sqrt(abs(x0))*1e-5\n",
        "\n",
        "\n",
        "system    = ModelIntegration(p)\n",
        "controls  = np.zeros((nu, nk)) \n",
        "xt, tt    = system.simulation(controls,x0)\n",
        "\n",
        "\n",
        "# --- visualising policy --- # \n",
        "print(tt.shape)\n",
        "plt.figure(1)\n",
        "for i in range(xt.shape[0]):\n",
        "    plt.plot(tt,xt.squeeze()[i,:]/np.max(xt.squeeze()[i,:]))\n",
        "plt.ylabel('state')\n",
        "plt.xlabel('discrete time index')\n",
        "plt.legend(['x_1', 'x_2'])\n",
        "plt.show()\n",
        "\n",
        "plt.figure(2)\n",
        "plt.plot(tt[:],xt.squeeze()[0,:])\n",
        "plt.ylabel('x_1')\n",
        "plt.xlabel('discrete time index')\n",
        "plt.legend(['state 1'])\n",
        "plt.show()\n",
        "\n",
        "plt.figure(3)\n",
        "plt.plot(tt[:],xt.squeeze()[1,:])\n",
        "plt.ylabel('x_2')\n",
        "plt.xlabel('discrete time index')\n",
        "plt.legend(['state 2'])\n",
        "plt.show()"
      ],
      "metadata": {
        "colab": {
          "base_uri": "https://localhost:8080/",
          "height": 820
        },
        "id": "677msKCLRFiW",
        "outputId": "d6be5d48-65be-46fc-f70a-4e7a60cbb367"
      },
      "execution_count": null,
      "outputs": [
        {
          "output_type": "stream",
          "name": "stdout",
          "text": [
            "(21,)\n"
          ]
        },
        {
          "output_type": "display_data",
          "data": {
            "text/plain": [
              "<Figure size 432x288 with 1 Axes>"
            ],
            "image/png": "[encoded data removed]"
          },
          "metadata": {
            "needs_background": "light"
          }
        },
        {
          "output_type": "display_data",
          "data": {
            "text/plain": [
              "<Figure size 432x288 with 1 Axes>"
            ],
            "image/png": "[encoded data removed]"
          },
          "metadata": {
            "needs_background": "light"
          }
        },
        {
          "output_type": "display_data",
          "data": {
            "text/plain": [
              "<Figure size 432x288 with 1 Axes>"
            ],
            "image/png": "[encoded data removed]"
          },
          "metadata": {
            "needs_background": "light"
          }
        }
      ]
    },
    {
      "cell_type": "markdown",
      "metadata": {
        "id": "OOYmqj3UFx_K"
      },
      "source": [
        "### **Neural Networks**\n",
        "We want to identify a policy which is conditional to the current state of the process, $\\mathbf{x}_t$. We propose to do this through policy approximation, i.e. we parameterize the policy with a function - i.e. a neural network. The NN will then interact with the process as follows:\n",
        "\n",
        "<br>\n",
        "\n",
        "<img src=\"https://drive.google.com/uc?export=view&id=1N9zM1ktYZlCOf-T7g4YA0dYpwhwzv39e\" width=\"650\" height =\"200\" >\n",
        "\n",
        "<br>\n"
      ]
    },
    {
      "cell_type": "code",
      "metadata": {
        "id": "ZvjMMzkkFxay"
      },
      "source": [
        "class Net(torch.nn.Module):\n",
        "  # in current form this is a linear function (wouldn't expect great performance here)\n",
        "  def __init__(self, **kwargs):\n",
        "    super(Net, self).__init__()\n",
        "\n",
        "    # Unpack the dictionary \n",
        "    self.args     = kwargs\n",
        "    self.dtype    = torch.float\n",
        "    self.use_cuda = torch.cuda.is_available() \n",
        "    self.device   = torch.device(\"cpu\")\n",
        "\n",
        "    # defining ANN topology \n",
        "    self.input_size = self.args['input_size']\n",
        "    self.output_sz  = self.args['output_size']\n",
        "    self.hs1        = 2\n",
        "    self.hs2        = 3\n",
        "\n",
        "    # defining layer \n",
        "    self.hidden1 = torch.nn.Linear(self.input_size, self.hs1 )\n",
        "    self.hidden2 = torch.nn.Linear(self.hs1, self.hs2)\n",
        "    self.output = torch.nn.Linear(self.hs2, self.output_sz)\n",
        "\n",
        "    self.af     = torch.nn.Tanh()\n",
        "\n",
        "  def forward(self, x):\n",
        "    x           = torch.tensor(x.view(1,1,-1)).float()\n",
        "    y           = self.af(self.hidden1(x))\n",
        "    y           = self.af(self.hidden2(y))\n",
        "    y           = self.output(y)\n",
        "\n",
        "    return y.detach().numpy()\n"
      ],
      "execution_count": null,
      "outputs": []
    },
    {
      "cell_type": "markdown",
      "source": [
        "## **Updating parameters of policy networks by search based methods**\n",
        "Due to the evaluate and search approach provided by this approach, as shown below, we have to find way to load the parameters to the network at each iteration of the search process. Network initialization, acesses and updating of parameters is shown in the code blocks below. \n",
        "\n",
        "<br>\n",
        "\n",
        "<img src=\"https://drive.google.com/uc?export=view&id=1Zm1GWw9RLiTpb4TR-qsA8I8wpF49eYxo\" width=\"340\" height =\"225\" >\n",
        "\n",
        "<br>"
      ],
      "metadata": {
        "id": "X6lSsrLdhSfq"
      }
    },
    {
      "cell_type": "code",
      "source": [
        "# defining network hyperparameters \n",
        "hyparams = {'input_size': 2,\n",
        "            'output_size': 2}\n",
        "\n",
        "# initialising the policy network\n",
        "ex_net = Net(**hyparams)\n",
        "# Retrieving parameters of the policy network --> returns dictionary of parameters\n",
        "params = ex_net.state_dict()\n",
        "\n",
        "# creating random parameters in the range [-5, 5]\n",
        "params2 = {k: torch.rand(v.shape)* (5 - -5) + -5 \\\n",
        "               for k, v in params.items()}      \n",
        "# Updating policy parameters manually (not by backpropagation)\n",
        "ex_net.load_state_dict(params2)\n",
        "print(params2)"
      ],
      "metadata": {
        "colab": {
          "base_uri": "https://localhost:8080/"
        },
        "id": "i7g6joMdhDYb",
        "outputId": "831cd588-7622-4166-e528-eb2521b24cbe"
      },
      "execution_count": null,
      "outputs": [
        {
          "output_type": "stream",
          "name": "stdout",
          "text": [
            "{'hidden1.weight': tensor([[-1.1716,  4.6015],\n",
            "        [ 0.6150, -4.7556]]), 'hidden1.bias': tensor([-2.7063,  3.6540]), 'hidden2.weight': tensor([[ 3.3884,  3.0441],\n",
            "        [-3.8443,  0.4979],\n",
            "        [-2.8219, -4.8979]]), 'hidden2.bias': tensor([-3.2485,  1.0269, -2.1773]), 'output.weight': tensor([[ 1.1314,  0.0092,  1.1603],\n",
            "        [ 3.5931, -4.5651, -4.8373]]), 'output.bias': tensor([0.4050, 2.6482])}\n"
          ]
        }
      ]
    },
    {
      "cell_type": "markdown",
      "metadata": {
        "id": "Q9Ydhlb6iD0x"
      },
      "source": [
        "## **Defining Simulation**"
      ]
    },
    {
      "cell_type": "code",
      "metadata": {
        "id": "cvc0WtnpJ3xV"
      },
      "source": [
        "############################\n",
        "# one episode run function #\n",
        "############################\n",
        "\n",
        "class Simulation(object):\n",
        "  def __init__(self, sample_size, nk, nu, nx, x0, x0_var, model_params, param_bound, **kwargs):\n",
        "    # --- unpacking arguments --- #\n",
        "    self.sample_size = sample_size                                                                  \n",
        "    self.nk, self.nu, self.nx, self.x0, self.x0_var = nk, nu, nx, x0, x0_var            \n",
        "    self.policy = Net(**kwargs)\n",
        "    self.ips, self.model_params    = {k: v.shape for k, v in self.policy.state_dict().items()}, model_params     # produces dictionary store of parameter shapes\n",
        "    self.param_max, self.param_min = param_bound\n",
        "\n",
        "  def run_episode(self, policy1, x0, model):\n",
        "      '''\n",
        "      This code is adapted for the optimization of a batch process, meaning a fixed final\n",
        "      time, and a state as \"time-to-termination\"\n",
        "\n",
        "      Single MC: Compute a single episode given a policy.\n",
        "      input: Specification\n",
        "      Output: Reward for each episode\n",
        "\n",
        "      nk: number of steps, dis:, F, x0: initial state, u_min, u_max\n",
        "      '''\n",
        "      # --- unpacking arguments --- #\n",
        "      sample_size = self.sample_size\n",
        "      nk, nu, nx, x0, x0_var = self.nk, self.nu, self.nx, self.x0, self.x0_var\n",
        "      \n",
        "      # --- internal definitions --- #\n",
        "      obj_indx         = 0\n",
        "\n",
        "      # ----------- Initialize episode ----------- #\n",
        "      u_trajectory = np.zeros([nk, nu]) \n",
        "      x_trajectory = np.zeros([nk, nx]) \n",
        "\n",
        "      # -- initial conditions -- #\n",
        "      t   = 0.\n",
        "      x_k = x0\n",
        "      # -- final condition -- #\n",
        "      tf  =  16.*24.\n",
        "      dt  = tf/nk\n",
        "      rtrns = 0\n",
        "\n",
        "\n",
        "      # ---- Perform MC for each time interval of (nk) steps ---- #\n",
        "      for ind in range(nk):\n",
        "\n",
        "          # ----- normalizing inputs ----- #\n",
        "\n",
        "          # ----- Compute next control action ----- #\n",
        "          x_k_norm_torch          = torch.tensor((x_k))\n",
        "          mean_uk                 = policy1(x_k_norm_torch)\n",
        "          u_k                     = np.reshape(mean_uk, (nu, 1))\n",
        "\n",
        "          # ----- we could put hard bounds on controls here ----- #\n",
        "\n",
        "\n",
        "          # ----- compute next states from \"real system\" ----- #\n",
        "          xt, rt   = model.step(x_k,u_k) \n",
        "          x_k_plus = xt[:,:]\n",
        "          x_k      = x_k_plus\n",
        "          rtrns    += rt\n",
        "\n",
        "          # ----- storage of data ----- #\n",
        "          u_trajectory[ind, :] = np.copy(u_k[:,:]).squeeze()\n",
        "          x_trajectory[ind, :] = np.copy(x_k_plus).squeeze()\n",
        "\n",
        "      \n",
        "      # ----- return ----- #\n",
        "      return rtrns, u_trajectory, x_trajectory\n",
        "\n",
        "  ############################\n",
        "  # Sample episodes function #\n",
        "  ############################\n",
        "\n",
        "  def sample_params(self):\n",
        "    # samples parameters from uniform distribution on support defined by upper and lower bounds\n",
        "    # and then load parameters into policy model\n",
        "    # note that here we could provide some parameter values from a more intelligent optimization algorithm (this would then become a function of theta)\n",
        "    params = {k: torch.rand(shape)* (self.param_max - self.param_min) + self.param_min \\\n",
        "               for k, shape in self.ips.items()}              \n",
        "    self.policy.load_state_dict(params)\n",
        "\n",
        "    return params\n",
        "\n",
        "\n",
        "  def load_params(self, x):\n",
        "    # loads parameters x into policy \n",
        "    params = {k: x[k] for k in self.ips.keys()}           \n",
        "       \n",
        "    self.policy.load_state_dict(params)\n",
        "\n",
        "    return \n",
        "\n",
        "  def RL_simulation(self, validate = False):\n",
        "      '''\n",
        "      Perform all the MC's for a given candidate. This means we either evaluate the candidate once \n",
        "      in the case of a deterministic system and 50+ evaluations for stochastic systems.\n",
        "\n",
        "      input: Policy, physical system, specifications\n",
        "      output: expected reward, historical data\n",
        "      '''\n",
        "      # --- unpacking arguments --- #\n",
        "      nk, nu, nx, x0, x0_var    = self.nk, self.nu, self.nx, self.x0, self.x0_var   \n",
        "      sample_size, model_params = self.sample_size, self.model_params\n",
        "      \n",
        "\n",
        "      # ----- internal definitions ----- #\n",
        "      rewards          = [None for _ in range(sample_size)]\n",
        "   \n",
        "      # historical data\n",
        "      h_xs = np.zeros([sample_size, nk+1, nx])\n",
        "      h_us = np.zeros([sample_size, nk, nu])\n",
        "      \n",
        "      # ----- loop over a number of episodes ----- #\n",
        "      for epi in range(sample_size):\n",
        "\n",
        "          model        = ModelIntegration(model_params)\n",
        "          # Random intial conditions \n",
        "          x0_epi       = x0 + np.random.multivariate_normal(np.zeros(nx), np.diagflat(x0_var)) \n",
        "          \n",
        "          # ----- Historical data ----- #\n",
        "          h_xs[epi, 0, :]       = x0_epi\n",
        "          reward, u_trajectory, x_trajectory = \\\n",
        "          self.run_episode(self.policy, x0_epi, model)\n",
        "          h_xs[epi, 1:, :]      = x_trajectory\n",
        "          h_us[epi, :, :]       = u_trajectory\n",
        "          rewards[epi]          = reward\n",
        "\n",
        "\n",
        "      # ----- Compute expectation and std pf reward ----- #\n",
        "      reward_mean = np.mean(rewards)\n",
        "      reward_std  = np.std(rewards)\n",
        "          \n",
        "      # ----- Return ----- #\n",
        "      if validate:\n",
        "        return reward_mean, reward_std, rewards, h_us, h_xs\n",
        "      if not validate:\n",
        "        return -reward_mean         # minimzation in random search\n",
        "\n",
        "\n",
        "\n",
        "\n",
        "               "
      ],
      "execution_count": null,
      "outputs": []
    },
    {
      "cell_type": "markdown",
      "metadata": {
        "id": "24zdVF2-TLWT"
      },
      "source": [
        "## **Random Search**\n",
        "\n",
        "\n",
        "```\n",
        "Random search \n",
        "\n",
        "input: define a policy model struture; upper and lower bounds on policy parameters; \n",
        "max. number of search trials (or other tolerance criterion; some probability density over the parameter space; initialise storage for best policy parameters and SAA of objective performance\n",
        "\n",
        "for a number of iterations: \n",
        "  1. sample parameters from distribution over the search space\n",
        "  2. evaluate the performance of those parameters through Monte Carlo rollouts to find the SAA of the objective.\n",
        "  3. if best performing parameter setting, save parameters and associated performance\n",
        "  4. if tolerance satisfied, then break\n",
        "\n",
        "output: best performing policy\n",
        "\n",
        "```\n"
      ]
    },
    {
      "cell_type": "code",
      "metadata": {
        "id": "_-1O-brPJO9X"
      },
      "source": [
        "def random_search(f,max_it, tol, metrics):\n",
        "    \"\"\" \n",
        "    Input: function which takes a simulation object,\n",
        "    then generates, evaluates and searches over policy parameters\n",
        "    until exiting due to maximum compute or tolerance met \n",
        "\n",
        "    Output: opt_params, opt_val\n",
        "\n",
        "    \"\"\"\n",
        "    i = 0\n",
        "    while i < max_it: \n",
        "      \n",
        "      pi_params_i = f.sample_params()           # sampling parameters\n",
        "      saa         = f.RL_simulation()           # evaluating parameters via SAA\n",
        "      \n",
        "      if saa < metrics[1]:\n",
        "        print(f'new global best at iteration {i}, saa of ise = {saa}')\n",
        "        metrics[0] = pi_params_i \n",
        "        tol_m      = abs(metrics[1] - saa)\n",
        "        metrics[1] = saa\n",
        "        if tol_m < tol:\n",
        "          print('exited due to tolerance')\n",
        "          break\n",
        "      i +=1 \n",
        "    \n",
        "          \n",
        "    return metrics\n",
        "\n"
      ],
      "execution_count": null,
      "outputs": []
    },
    {
      "cell_type": "markdown",
      "metadata": {
        "id": "yTIgc_r3h73M"
      },
      "source": [
        "### **Running Problem** "
      ]
    },
    {
      "cell_type": "code",
      "metadata": {
        "id": "frts5AUHmWpO"
      },
      "source": [
        "# define policy function to optimise weights of \n",
        "hypparams = {'input_size': 2,\n",
        "          'output_size': 2}"
      ],
      "execution_count": null,
      "outputs": []
    },
    {
      "cell_type": "code",
      "metadata": {
        "id": "9Uog-aQLyk6t",
        "colab": {
          "base_uri": "https://localhost:8080/",
          "height": 557
        },
        "outputId": "57511439-559b-4610-938e-e85a941250a8"
      },
      "source": [
        "import datetime\n",
        "\n",
        "# ---------- set random seed and timers ---------- #\n",
        "torch.manual_seed(666)\n",
        "now = datetime.datetime.now()\n",
        "np.random.seed(seed=0)\n",
        "\n",
        "# --- metrics + params for random search --- #\n",
        "search_best_params = {}\n",
        "search_best_reward = np.inf\n",
        "max_it, tol        = 5000, 1e-3\n",
        "dimension_bounds=[-5,5]   # bounds are important here \n",
        "\n",
        "f = Simulation(episodes, nk, nu, nx, x0, x0_var, p, dimension_bounds, **hypparams)\n",
        "\n",
        "# perform optimisation \n",
        "opt_params, opt_val = random_search(f, max_it, tol, [search_best_params, search_best_reward])   \n",
        "# validate optimal policy \n",
        "f.load_params(opt_params)\n",
        "reward_mean, reward_std, rewards, h_us, h_xs = f.RL_simulation(validate = True)\n",
        "\n",
        "np.save('control_profile.npy', h_us)\n",
        "np.save('state_profile.npy', h_xs)\n"
      ],
      "execution_count": null,
      "outputs": [
        {
          "output_type": "stream",
          "name": "stderr",
          "text": [
            "/usr/local/lib/python3.7/dist-packages/ipykernel_launcher.py:26: UserWarning: To copy construct from a tensor, it is recommended to use sourceTensor.clone().detach() or sourceTensor.clone().detach().requires_grad_(True), rather than torch.tensor(sourceTensor).\n"
          ]
        },
        {
          "output_type": "stream",
          "name": "stdout",
          "text": [
            "new global best at iteration 0, saa of ise = 144522.29716031562\n",
            "new global best at iteration 5, saa of ise = 49.903963310513966\n",
            "new global best at iteration 17, saa of ise = 38.19446918970744\n",
            "new global best at iteration 24, saa of ise = 1.739335215735108\n",
            "new global best at iteration 533, saa of ise = 0.9237443654170956\n",
            "new global best at iteration 1805, saa of ise = 0.8925074921896835\n"
          ]
        },
        {
          "output_type": "error",
          "ename": "KeyboardInterrupt",
          "evalue": "ignored",
          "traceback": [
            "\u001b[0;31m---------------------------------------------------------------------------\u001b[0m",
            "\u001b[0;31mKeyboardInterrupt\u001b[0m                         Traceback (most recent call last)",
            "\u001b[0;32m<ipython-input-18-fafc09bcf4e1>\u001b[0m in \u001b[0;36m<module>\u001b[0;34m()\u001b[0m\n\u001b[1;32m     15\u001b[0m \u001b[0;34m\u001b[0m\u001b[0m\n\u001b[1;32m     16\u001b[0m \u001b[0;31m# perform optimisation\u001b[0m\u001b[0;34m\u001b[0m\u001b[0;34m\u001b[0m\u001b[0;34m\u001b[0m\u001b[0m\n\u001b[0;32m---> 17\u001b[0;31m \u001b[0mopt_params\u001b[0m\u001b[0;34m,\u001b[0m \u001b[0mopt_val\u001b[0m \u001b[0;34m=\u001b[0m \u001b[0mrandom_search\u001b[0m\u001b[0;34m(\u001b[0m\u001b[0mf\u001b[0m\u001b[0;34m,\u001b[0m \u001b[0mmax_it\u001b[0m\u001b[0;34m,\u001b[0m \u001b[0mtol\u001b[0m\u001b[0;34m,\u001b[0m \u001b[0;34m[\u001b[0m\u001b[0msearch_best_params\u001b[0m\u001b[0;34m,\u001b[0m \u001b[0msearch_best_reward\u001b[0m\u001b[0;34m]\u001b[0m\u001b[0;34m)\u001b[0m\u001b[0;34m\u001b[0m\u001b[0;34m\u001b[0m\u001b[0m\n\u001b[0m\u001b[1;32m     18\u001b[0m \u001b[0;31m# validate optimal policy\u001b[0m\u001b[0;34m\u001b[0m\u001b[0;34m\u001b[0m\u001b[0;34m\u001b[0m\u001b[0m\n\u001b[1;32m     19\u001b[0m \u001b[0mf\u001b[0m\u001b[0;34m.\u001b[0m\u001b[0mload_params\u001b[0m\u001b[0;34m(\u001b[0m\u001b[0mopt_params\u001b[0m\u001b[0;34m)\u001b[0m\u001b[0;34m\u001b[0m\u001b[0;34m\u001b[0m\u001b[0m\n",
            "\u001b[0;32m<ipython-input-16-22687ffa77c4>\u001b[0m in \u001b[0;36mrandom_search\u001b[0;34m(f, max_it, tol, metrics)\u001b[0m\n\u001b[1;32m     12\u001b[0m \u001b[0;34m\u001b[0m\u001b[0m\n\u001b[1;32m     13\u001b[0m       \u001b[0mpi_params_i\u001b[0m \u001b[0;34m=\u001b[0m \u001b[0mf\u001b[0m\u001b[0;34m.\u001b[0m\u001b[0msample_params\u001b[0m\u001b[0;34m(\u001b[0m\u001b[0;34m)\u001b[0m           \u001b[0;31m# sampling parameters\u001b[0m\u001b[0;34m\u001b[0m\u001b[0;34m\u001b[0m\u001b[0m\n\u001b[0;32m---> 14\u001b[0;31m       \u001b[0msaa\u001b[0m         \u001b[0;34m=\u001b[0m \u001b[0mf\u001b[0m\u001b[0;34m.\u001b[0m\u001b[0mRL_simulation\u001b[0m\u001b[0;34m(\u001b[0m\u001b[0;34m)\u001b[0m           \u001b[0;31m# evaluating parameters via SAA\u001b[0m\u001b[0;34m\u001b[0m\u001b[0;34m\u001b[0m\u001b[0m\n\u001b[0m\u001b[1;32m     15\u001b[0m \u001b[0;34m\u001b[0m\u001b[0m\n\u001b[1;32m     16\u001b[0m       \u001b[0;32mif\u001b[0m \u001b[0msaa\u001b[0m \u001b[0;34m<\u001b[0m \u001b[0mmetrics\u001b[0m\u001b[0;34m[\u001b[0m\u001b[0;36m1\u001b[0m\u001b[0;34m]\u001b[0m\u001b[0;34m:\u001b[0m\u001b[0;34m\u001b[0m\u001b[0;34m\u001b[0m\u001b[0m\n",
            "\u001b[0;32m<ipython-input-15-43ae5c0852f4>\u001b[0m in \u001b[0;36mRL_simulation\u001b[0;34m(self, validate)\u001b[0m\n\u001b[1;32m    121\u001b[0m           \u001b[0;31m# ----- Historical data ----- #\u001b[0m\u001b[0;34m\u001b[0m\u001b[0;34m\u001b[0m\u001b[0;34m\u001b[0m\u001b[0m\n\u001b[1;32m    122\u001b[0m           \u001b[0mh_xs\u001b[0m\u001b[0;34m[\u001b[0m\u001b[0mepi\u001b[0m\u001b[0;34m,\u001b[0m \u001b[0;36m0\u001b[0m\u001b[0;34m,\u001b[0m \u001b[0;34m:\u001b[0m\u001b[0;34m]\u001b[0m       \u001b[0;34m=\u001b[0m \u001b[0mx0_epi\u001b[0m\u001b[0;34m\u001b[0m\u001b[0;34m\u001b[0m\u001b[0m\n\u001b[0;32m--> 123\u001b[0;31m           \u001b[0mreward\u001b[0m\u001b[0;34m,\u001b[0m \u001b[0mu_trajectory\u001b[0m\u001b[0;34m,\u001b[0m \u001b[0mx_trajectory\u001b[0m \u001b[0;34m=\u001b[0m           \u001b[0mself\u001b[0m\u001b[0;34m.\u001b[0m\u001b[0mrun_episode\u001b[0m\u001b[0;34m(\u001b[0m\u001b[0mself\u001b[0m\u001b[0;34m.\u001b[0m\u001b[0mpolicy\u001b[0m\u001b[0;34m,\u001b[0m \u001b[0mx0_epi\u001b[0m\u001b[0;34m,\u001b[0m \u001b[0mmodel\u001b[0m\u001b[0;34m)\u001b[0m\u001b[0;34m\u001b[0m\u001b[0;34m\u001b[0m\u001b[0m\n\u001b[0m\u001b[1;32m    124\u001b[0m           \u001b[0mh_xs\u001b[0m\u001b[0;34m[\u001b[0m\u001b[0mepi\u001b[0m\u001b[0;34m,\u001b[0m \u001b[0;36m1\u001b[0m\u001b[0;34m:\u001b[0m\u001b[0;34m,\u001b[0m \u001b[0;34m:\u001b[0m\u001b[0;34m]\u001b[0m      \u001b[0;34m=\u001b[0m \u001b[0mx_trajectory\u001b[0m\u001b[0;34m\u001b[0m\u001b[0;34m\u001b[0m\u001b[0m\n\u001b[1;32m    125\u001b[0m           \u001b[0mh_us\u001b[0m\u001b[0;34m[\u001b[0m\u001b[0mepi\u001b[0m\u001b[0;34m,\u001b[0m \u001b[0;34m:\u001b[0m\u001b[0;34m,\u001b[0m \u001b[0;34m:\u001b[0m\u001b[0;34m]\u001b[0m       \u001b[0;34m=\u001b[0m \u001b[0mu_trajectory\u001b[0m\u001b[0;34m\u001b[0m\u001b[0;34m\u001b[0m\u001b[0m\n",
            "\u001b[0;32m<ipython-input-15-43ae5c0852f4>\u001b[0m in \u001b[0;36mrun_episode\u001b[0;34m(self, policy1, x0, model)\u001b[0m\n\u001b[1;32m     51\u001b[0m           \u001b[0mx_k_norm_torch\u001b[0m          \u001b[0;34m=\u001b[0m \u001b[0mtorch\u001b[0m\u001b[0;34m.\u001b[0m\u001b[0mtensor\u001b[0m\u001b[0;34m(\u001b[0m\u001b[0;34m(\u001b[0m\u001b[0mx_k\u001b[0m\u001b[0;34m)\u001b[0m\u001b[0;34m)\u001b[0m\u001b[0;34m\u001b[0m\u001b[0;34m\u001b[0m\u001b[0m\n\u001b[1;32m     52\u001b[0m           \u001b[0mmean_uk\u001b[0m                 \u001b[0;34m=\u001b[0m \u001b[0mpolicy1\u001b[0m\u001b[0;34m(\u001b[0m\u001b[0mx_k_norm_torch\u001b[0m\u001b[0;34m)\u001b[0m\u001b[0;34m\u001b[0m\u001b[0;34m\u001b[0m\u001b[0m\n\u001b[0;32m---> 53\u001b[0;31m           \u001b[0mu_k\u001b[0m                     \u001b[0;34m=\u001b[0m \u001b[0mnp\u001b[0m\u001b[0;34m.\u001b[0m\u001b[0mreshape\u001b[0m\u001b[0;34m(\u001b[0m\u001b[0mmean_uk\u001b[0m\u001b[0;34m,\u001b[0m \u001b[0;34m(\u001b[0m\u001b[0mnu\u001b[0m\u001b[0;34m,\u001b[0m \u001b[0;36m1\u001b[0m\u001b[0;34m)\u001b[0m\u001b[0;34m)\u001b[0m\u001b[0;34m\u001b[0m\u001b[0;34m\u001b[0m\u001b[0m\n\u001b[0m\u001b[1;32m     54\u001b[0m \u001b[0;34m\u001b[0m\u001b[0m\n\u001b[1;32m     55\u001b[0m           \u001b[0;31m# ----- we could put hard bounds on controls here ----- #\u001b[0m\u001b[0;34m\u001b[0m\u001b[0;34m\u001b[0m\u001b[0;34m\u001b[0m\u001b[0m\n",
            "\u001b[0;32m<__array_function__ internals>\u001b[0m in \u001b[0;36mreshape\u001b[0;34m(*args, **kwargs)\u001b[0m\n",
            "\u001b[0;31mKeyboardInterrupt\u001b[0m: "
          ]
        }
      ]
    },
    {
      "cell_type": "code",
      "source": [
        "# fix for plotting controls\n",
        "h_us_p = np.zeros((episodes, nk+1,nu))\n",
        "h_us_p[:,:-1,:], h_us_p[:,-1,:] = h_us, h_us[:,-1,:]\n",
        "h_us = h_us_p\n"
      ],
      "metadata": {
        "id": "GKn_yrUZP62J"
      },
      "execution_count": null,
      "outputs": []
    },
    {
      "cell_type": "code",
      "metadata": {
        "colab": {
          "base_uri": "https://localhost:8080/",
          "height": 1000
        },
        "id": "kzMIxtmbZ-ae",
        "outputId": "b2f46c81-5690-4334-d377-a836bea08c86"
      },
      "source": [
        "kk =4\n",
        "# --- visualising policy --- # \n",
        "tt = np.linspace(0, h_xs.shape[1]-1,h_xs.shape[1] )\n",
        "print(tt.shape)\n",
        "plt.figure(1)\n",
        "for i in range(h_xs.shape[2]):\n",
        "    plt.plot(tt,h_xs.squeeze()[kk,:,i]/np.max(h_xs.squeeze()[kk,:,i]))\n",
        "for i in range(h_us.shape[2]):\n",
        "  plt.step(tt[:],h_us[kk,:,i].squeeze()/np.max(h_us[kk,:,i].squeeze()), where='post')\n",
        "plt.ylabel('state')\n",
        "plt.xlabel('discrete time index')\n",
        "plt.legend(['x_1', 'x_2', 'u_1', 'u_2'])\n",
        "plt.show()\n",
        "\n",
        "plt.figure(2)\n",
        "plt.step(tt[:],h_us[kk,:,0].squeeze(), where='post')\n",
        "plt.ylabel('u_1')\n",
        "plt.xlabel('discrete time index')\n",
        "plt.legend(['control 1'])\n",
        "plt.show()\n",
        "\n",
        "plt.figure(3)\n",
        "plt.step(tt[:],h_us[kk,:,1].squeeze(), where='post')\n",
        "plt.ylabel('u_2')\n",
        "plt.xlabel('discrete time index')\n",
        "plt.legend(['control 2'])\n",
        "plt.show()\n",
        "\n",
        "plt.figure(3)\n",
        "plt.plot(tt[:],h_xs.squeeze()[kk,:,0])\n",
        "plt.ylabel('x_1')\n",
        "plt.xlabel('discrete time index')\n",
        "plt.legend(['state 1'])\n",
        "plt.show()\n",
        "\n",
        "plt.figure(4)\n",
        "plt.plot(tt[:],h_xs.squeeze()[kk,:,1])\n",
        "plt.ylabel('x_2')\n",
        "plt.xlabel('discrete time index')\n",
        "plt.legend(['state 2'])\n",
        "plt.show()\n"
      ],
      "execution_count": null,
      "outputs": [
        {
          "output_type": "stream",
          "name": "stdout",
          "text": [
            "(21,)\n"
          ]
        },
        {
          "output_type": "display_data",
          "data": {
            "text/plain": [
              "<Figure size 432x288 with 1 Axes>"
            ],
            "image/png": "[encoded data removed]"
          },
          "metadata": {
            "needs_background": "light"
          }
        },
        {
          "output_type": "display_data",
          "data": {
            "text/plain": [
              "<Figure size 432x288 with 1 Axes>"
            ],
            "image/png": "[encoded data removed]"
          },
          "metadata": {
            "needs_background": "light"
          }
        },
        {
          "output_type": "display_data",
          "data": {
            "text/plain": [
              "<Figure size 432x288 with 1 Axes>"
            ],
            "image/png": "[encoded data removed]"
          },
          "metadata": {
            "needs_background": "light"
          }
        },
        {
          "output_type": "display_data",
          "data": {
            "text/plain": [
              "<Figure size 432x288 with 1 Axes>"
            ],
            "image/png": "[encoded data removed]"
          },
          "metadata": {
            "needs_background": "light"
          }
        },
        {
          "output_type": "display_data",
          "data": {
            "text/plain": [
              "<Figure size 432x288 with 1 Axes>"
            ],
            "image/png": "[encoded data removed]"
          },
          "metadata": {
            "needs_background": "light"
          }
        }
      ]
    },
    {
      "cell_type": "markdown",
      "source": [
        "\n",
        "*   How can you improve the policy?\n",
        "*   What properties of the system might make this 'learning problem' more difficult?\n",
        "\n"
      ],
      "metadata": {
        "id": "rwbf88utk4-u"
      }
    }
  ]
}